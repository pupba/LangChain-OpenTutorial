{
  "cells": [
    {
      "cell_type": "markdown",
      "id": "635d8ebb",
      "metadata": {},
      "source": [
        "# TextToSQL\n",
        "\n",
        "- Author: [Jaehun Choi](https://github.com/ash-hun)\n",
        "- Design: \n",
        "- Peer Review: [Dooil Kwak](https://github.com/back2zion), [Ilgyun Jeong](https://github.com/johnny9210)\n",
        "- This is a part of [LangChain Open Tutorial](https://github.com/LangChain-OpenTutorial/LangChain-OpenTutorial)\n",
        "\n",
        "[![Open in Colab](https://colab.research.google.com/assets/colab-badge.svg)](https://colab.research.google.com/github/LangChain-OpenTutorial/LangChain-OpenTutorial/blob/main/99-TEMPLATE/00-BASE-TEMPLATE-EXAMPLE.ipynb) [![Open in GitHub](https://img.shields.io/badge/Open%20in%20GitHub-181717?style=flat-square&logo=github&logoColor=white)](https://github.com/LangChain-OpenTutorial/LangChain-OpenTutorial/blob/main/99-TEMPLATE/00-BASE-TEMPLATE-EXAMPLE.ipynb)\n",
        "\n",
        "## Overview\n",
        "\n",
        "This tutorial provides a feature for generating SQL query statements based on arbitrary database information. While it does not cover extracting database information directly, it may include details about column information and descriptions for specific tables. Using OpenAI’s GPT models (e.g., gpt-4o) and prompt templates, the tutorial demonstrates how to generate SQL queries.\n",
        "\n",
        "**Features**\n",
        "\n",
        "- Database Information : Introduces the format of database information required for generating SQL queries.\n",
        "- TextToSQL : Generates customized SQL queries based on the provided database information.\n",
        "- Evaluation : Conducts a lightweight evaluation of the generated SQL queries.\n",
        "\n",
        "### Table of Contents\n",
        "\n",
        "- [Overview](#overview)\n",
        "- [Environment Setup](#environment-setup)\n",
        "- [Database Information](#database-information)\n",
        "- [TextToSQL](#text-to-sql)\n",
        "- [Evaluation](#evaluation)\n",
        "\n",
        "\n",
        "### References\n",
        "\n",
        "- [JsonOutputParser](https://python.langchain.com/api_reference/core/output_parsers/langchain_core.output_parsers.json.JsonOutputParser.html)\n",
        "- [arXiv : Enhancing Text-to-SQL Translation for Financial System Design](https://arxiv.org/abs/2312.14725)\n",
        "- [Github : SQAM](https://github.com/ezzini/SQAM)\n",
        "----"
      ]
    },
    {
      "cell_type": "markdown",
      "id": "c6c7aba4",
      "metadata": {},
      "source": [
        "## Environment Setup\n",
        "\n",
        "Set up the environment. You may refer to [Environment Setup](https://wikidocs.net/257836) for more details.\n",
        "\n",
        "**[Note]**\n",
        "- `langchain-opentutorial` is a package that provides a set of easy-to-use environment setup, useful functions and utilities for tutorials. \n",
        "- You can checkout the [`langchain-opentutorial`](https://github.com/LangChain-OpenTutorial/langchain-opentutorial-pypi) for more details."
      ]
    },
    {
      "cell_type": "code",
      "execution_count": 2,
      "id": "21943adb",
      "metadata": {},
      "outputs": [],
      "source": [
        "%%capture --no-stderr\n",
        "%pip install langchain-opentutorial"
      ]
    },
    {
      "cell_type": "code",
      "execution_count": 3,
      "id": "f25ec196",
      "metadata": {},
      "outputs": [],
      "source": [
        "# Install required packages\n",
        "from langchain_opentutorial import package\n",
        "\n",
        "package.install(\n",
        "    [\n",
        "        \"langsmith\",\n",
        "        \"langchain\",\n",
        "        \"langchain_core\",\n",
        "        \"langchain_openai\",\n",
        "    ],\n",
        "    verbose=False,\n",
        "    upgrade=False,\n",
        ")"
      ]
    },
    {
      "cell_type": "code",
      "execution_count": 4,
      "id": "7f9065ea",
      "metadata": {},
      "outputs": [
        {
          "name": "stdout",
          "output_type": "stream",
          "text": [
            "Environment variables have been set successfully.\n"
          ]
        }
      ],
      "source": [
        "# Set environment variables\n",
        "from langchain_opentutorial import set_env\n",
        "\n",
        "set_env(\n",
        "    {\n",
        "        \"OPENAI_API_KEY\": \"\",\n",
        "        \"LANGCHAIN_API_KEY\": \"\",\n",
        "        \"LANGCHAIN_TRACING_V2\": \"true\",\n",
        "        \"LANGCHAIN_ENDPOINT\": \"https://api.smith.langchain.com\",\n",
        "        \"LANGCHAIN_PROJECT\": \"01-TextToSQL\",\n",
        "    }\n",
        ")"
      ]
    },
    {
      "cell_type": "markdown",
      "id": "690a9ae0",
      "metadata": {},
      "source": [
        "You can alternatively set API keys such as `OPENAI_API_KEY` in a `.env` file and load them.\n",
        "\n",
        "[Note] This is not necessary if you've already set the required API keys in previous steps."
      ]
    },
    {
      "cell_type": "code",
      "execution_count": 5,
      "id": "4f99b5b6",
      "metadata": {},
      "outputs": [
        {
          "data": {
            "text/plain": [
              "True"
            ]
          },
          "execution_count": 5,
          "metadata": {},
          "output_type": "execute_result"
        }
      ],
      "source": [
        "# Load API keys from .env file\n",
        "from dotenv import load_dotenv\n",
        "\n",
        "load_dotenv(override=True)"
      ]
    },
    {
      "cell_type": "markdown",
      "id": "aa00c3f4",
      "metadata": {},
      "source": [
        "## Database Information\n",
        "\n",
        "Descriptions of database information can be utilized in two main forms:\n",
        "\n",
        "- Providing raw table or column information without modification.\n",
        "- Providing table or column information with descriptions included.\n",
        "\n",
        "\n",
        "This tutorial will proceed based on the following example table:\n",
        "\n",
        "- Database Name: CompanyDB\n",
        "- Column Information for the 'employees' table (Employee Information):\n",
        "\n",
        "    ```\n",
        "    id (INT, PRIMARY KEY, AUTO_INCREMENT)\n",
        "    name (VARCHAR, Employee Name)\n",
        "    position (VARCHAR, Position)\n",
        "    department (VARCHAR, Department Name)\n",
        "    salary (DECIMAL, Salary)\n",
        "    hire_date (DATE, Hire Date)\n",
        "    departments (VARCHAR, Department Information)\n",
        "    ```\n"
      ]
    },
    {
      "cell_type": "code",
      "execution_count": 6,
      "id": "69cb77da",
      "metadata": {},
      "outputs": [],
      "source": [
        "# Providing raw table or column information without modification.\n",
        "\n",
        "db_schema = \"\"\"\n",
        "employees table\n",
        "- id (INT, PRIMARY KEY, AUTO_INCREMENT)\n",
        "- name (VARCHAR, Employee Name)\n",
        "- position (VARCHAR, Position)\n",
        "- department (VARCHAR, Department Name)\n",
        "- salary (DECIMAL, Salary)\n",
        "- hire_date (DATE, Hire Date)\n",
        "- departments (VARCHAR, Department Information)\n",
        "\"\"\""
      ]
    },
    {
      "cell_type": "code",
      "execution_count": 7,
      "id": "a40ca72d",
      "metadata": {},
      "outputs": [],
      "source": [
        "# Providing table or column information with descriptions included.\n",
        "\n",
        "db_schema_description = \"\"\"\n",
        "The employees table stores information about the employees in the organization. It includes the following fields:\n",
        "\n",
        "- id: An integer that serves as the primary key and is auto-incremented for each employee.\n",
        "- name: A string (VARCHAR) representing the name of the employee.\n",
        "- position: A string (VARCHAR) indicating the job title or position of the employee.\n",
        "- department: A string (VARCHAR) specifying the department to which the employee belongs.\n",
        "- salary: A decimal value representing the employee's salary.\n",
        "- hire_date: A date field indicating when the employee was hired.\n",
        "\n",
        "\"\"\""
      ]
    },
    {
      "cell_type": "markdown",
      "id": "2b2fc536",
      "metadata": {},
      "source": [
        "## Text to SQL\n",
        "\n",
        "Customized SQL queries are generated based on the two types of database schema information mentioned above."
      ]
    },
    {
      "cell_type": "code",
      "execution_count": 8,
      "id": "1b78d33f",
      "metadata": {},
      "outputs": [],
      "source": [
        "from pydantic import BaseModel, Field\n",
        "from langchain_openai import ChatOpenAI\n",
        "from langchain_core.prompts import ChatPromptTemplate\n",
        "from langchain_core.output_parsers import JsonOutputParser\n",
        "\n",
        "# Define Datamodel with Pydantic\n",
        "class SqlSchema(BaseModel):\n",
        "    statement: str = Field(description=\"SQL Query Statement\")"
      ]
    },
    {
      "cell_type": "code",
      "execution_count": 9,
      "id": "31a701c8",
      "metadata": {},
      "outputs": [],
      "source": [
        "# Define Common function for Inference\n",
        "def generate(datamodel:BaseModel, database_schema:str, user_question:str) -> str:\n",
        "    # Create an OpenAI object\n",
        "    model = ChatOpenAI(temperature=0, model_name=\"gpt-4o\")\n",
        "    \n",
        "    # Set up the parser and inject the instructions into the prompt template.\n",
        "    parser = JsonOutputParser(pydantic_object=datamodel)\n",
        "    \n",
        "    # Set up the prompt template\n",
        "    prompt = ChatPromptTemplate.from_messages(\n",
        "        [\n",
        "            (\"system\", \"You are a expert of SQL. Answer questions concisely.\"),\n",
        "            (\"user\", \"Please generate a direct and accurate SQL Query statement from the Schema_Info.\\n\\n#Format: {format_instructions}\\n\\n#Schema_Info: {schema_info}\\n\\n#Question: {question}\"),\n",
        "        ]\n",
        "    )\n",
        "\n",
        "    prompt = prompt.partial(format_instructions=parser.get_format_instructions())\n",
        "    \n",
        "    # Combine the prompt, model, and JsonOutputParser into a chain\n",
        "    chain = prompt | model | parser\n",
        "\n",
        "    # Run the chain with your question : raw style prompt\n",
        "    answer = chain.invoke({\"schema_info\": database_schema, \"question\": user_question})\n",
        "    return answer['statement']"
      ]
    },
    {
      "cell_type": "code",
      "execution_count": 10,
      "id": "6f01fb28",
      "metadata": {},
      "outputs": [
        {
          "name": "stdout",
          "output_type": "stream",
          "text": [
            "Raw style prompt result:\n",
            "SELECT name, position FROM employees WHERE department = 'Engineering';\n",
            "\n",
            "Description style prompt result:\n",
            "SELECT name, position FROM employees WHERE department = 'Engineering';\n"
          ]
        }
      ],
      "source": [
        "# Generate SQL Query with both raw style and description style prompts\n",
        "question = \"Please show me the names and job titles of all employees in the Engineering department.\"\n",
        "\n",
        "print(\"Raw style prompt result:\")\n",
        "print(generate(datamodel=SqlSchema, database_schema=db_schema, user_question=question))\n",
        "\n",
        "print(\"\\nDescription style prompt result:\")\n",
        "print(generate(datamodel=SqlSchema, database_schema=db_schema_description, user_question=question))"
      ]
    },
    {
      "cell_type": "markdown",
      "id": "69ae62ed",
      "metadata": {},
      "source": [
        "Additionally, cases involving the generation of SQL queries referencing two or more tables are also introduced."
      ]
    },
    {
      "cell_type": "code",
      "execution_count": 11,
      "id": "8aae2194",
      "metadata": {},
      "outputs": [
        {
          "data": {
            "text/plain": [
              "'SELECT departments.name AS department_name, AVG(departments.salary) AS average_salary FROM departments GROUP BY departments.name;'"
            ]
          },
          "execution_count": 11,
          "metadata": {},
          "output_type": "execute_result"
        }
      ],
      "source": [
        "# Generating SQL Queries Using Multiple Database Schemas\n",
        "\n",
        "db_multi_schema = \"\"\"\n",
        "employees table\n",
        "- id (INT, PRIMARY KEY, AUTO_INCREMENT)\n",
        "- name (VARCHAR, Employee Name)\n",
        "- position (VARCHAR, Position)\n",
        "- hire_date (DATE, Hire Date)\n",
        "\n",
        "departments table\n",
        "- id (INT, PRIMARY KEY, AUTO_INCREMENT)\n",
        "- name (VARCHAR, Department Name)\n",
        "- salary (DECIMAL, Salary of Year)\n",
        "- manager_id (INT, Foreign KEY: employees table's id column)\n",
        "\"\"\"\n",
        "\n",
        "# Run the chain with your question : Multi Schema Information prompt\n",
        "multi_table_question = \"Please generate a query to calculate the average salary for each department.\"\n",
        "generate(datamodel=SqlSchema, database_schema=db_multi_schema, user_question=multi_table_question)"
      ]
    },
    {
      "cell_type": "markdown",
      "id": "dd282b4f",
      "metadata": {},
      "source": [
        "## Evaluation\n",
        "\n",
        "As detailed in the paper \"[Enhancing Text-to-SQL Translation for Financial System Design](https://arxiv.org/abs/2312.14725)\" referenced in the References section, SQL evaluation cannot be assessed using a single metric alone. In this tutorial, we utilize code excerpted from the [SQAM GitHub repository](https://github.com/ezzini/SQAM) for evaluation purposes, selected from among various evaluation metrics. For more information, please refer to the original paper linked in the References section.\n",
        "\n",
        "**[Note]**  \n",
        "The Structural Query Alignment Metric (SQAM) is a Python package that provides functions to compare SQL queries based on their syntax and structure. Given a query and a ground truth query, the package computes an accuracy score that reflects the degree of similarity between the two queries. The accuracy score is based on the percentage of matching query subitems (e.g., select columns, where conditions, order by clauses) weighted by their importance in the overall query structure.\n",
        "\n",
        "The evaluation will proceed in the following order.\n",
        "\n",
        "1. Comparison of Query Components : Divide the SQL queries into major components such as SELECT, FROM, WHERE, GROUP BY, HAVING, ORDER BY, and LIMIT. Extract detailed elements within each component (e.g., selected columns, conditions, sorting criteria, etc.).\n",
        "\n",
        "2. Weight Assignment to Components : Assign weights to each component based on its importance in the query structure. For example, SELECT and WHERE may have relatively higher weights, while FROM and ORDER BY may have lower weights.\n",
        "\n",
        "3. Accuracy Calculation : Compare the components of the query being evaluated with the reference query, calculating how many detailed elements (sub-components) match between them. Then compute the ratio of matching elements to the total compared elements and return the accuracy as a percentage (%).\n"
      ]
    },
    {
      "cell_type": "code",
      "execution_count": 12,
      "id": "25a717e8",
      "metadata": {},
      "outputs": [],
      "source": [
        "import re\n",
        "\n",
        "def split_sql_query(query):\n",
        "    query = query.replace(';','').replace('select ','SELECT ').strip()\n",
        "    for keyword in ['from','where','group by','having','order by','limit']:\n",
        "      query = query.replace(' '+keyword+' ',' '+keyword.upper()+' ')\n",
        "\n",
        "    # extract SELECT statement\n",
        "    select_end = query.find(' FROM ')\n",
        "    select_clause = query[:select_end] if select_end != -1 else query\n",
        "    select_items = [item.strip().split()[-1].split(\".\")[-1].lower() for item in select_clause.split('SELECT ')[-1].split(',') if item.strip()]\n",
        "\n",
        "    # extract FROM statement\n",
        "    from_start = select_end + 6 if select_end != -1 else 0\n",
        "    from_end = query.find(' WHERE ') if ' WHERE ' in query else len(query)\n",
        "    from_clause = query[from_start:from_end].strip()\n",
        "    if from_start>=from_end:\n",
        "        from_items=['']\n",
        "    else:\n",
        "        from_items = [item.strip().split()[0].lower() for item in from_clause.split('JOIN') if item.strip()]\n",
        "\n",
        "    # extract WHERE conditions\n",
        "    where_start = from_end + 7 if ' WHERE ' in query else len(query)\n",
        "    where_end = query.find(' GROUP BY ') if ' GROUP BY ' in query else len(query)\n",
        "    where_clause = query[where_start:where_end].strip()\n",
        "    if where_start>=where_end:\n",
        "        where_items=['']\n",
        "    else:\n",
        "        where_items = [re.sub('[' +  ''.join(['\\'',' ','\"']) +  ']', '', item).lower().split('.')[-1] for item in re.split(r'\\s+(?:AND|OR)\\s+', where_clause, flags=re.IGNORECASE) if item.strip()] if where_clause != '' else None\n",
        "\n",
        "    # extract GROUP BY statement\n",
        "    group_start = where_end + 10 if ' GROUP BY ' in query else len(query)\n",
        "    group_end = query.find(' HAVING ') if ' HAVING ' in query else len(query)\n",
        "    group_clause = query[group_start:group_end].strip()\n",
        "    if group_start>=group_end:\n",
        "        group_items=['']\n",
        "    else:\n",
        "        group_items = [item.strip().lower() for item in group_clause.split(',') if item.strip()] if group_clause != '' else None\n",
        "\n",
        "    # extract HAVING conditions\n",
        "    having_start = group_end + 8 if ' HAVING ' in query else len(query)\n",
        "    having_end = query.find(' ORDER BY ') if ' ORDER BY ' in query else len(query)\n",
        "    having_clause = query[having_start:having_end].strip()\n",
        "    if having_start>=having_end:\n",
        "        having_items=['']\n",
        "    else:\n",
        "        having_items = [item.strip().lower() for item in re.split(r'\\s+(?:AND|OR)\\s+', having_clause, flags=re.IGNORECASE) if item.strip()] if having_clause != '' else None\n",
        "\n",
        "    # extract ORDER BY statement\n",
        "    order_start = having_end + 10 if ' ORDER BY ' in query else len(query)\n",
        "    order_end = len(query)\n",
        "    order_clause = query[order_start:order_end].strip()\n",
        "    if order_start>=order_end:\n",
        "        order_items=['']\n",
        "    else:\n",
        "        order_items = [item.strip().lower() for item in order_clause.split(',') if item.strip()] if order_clause != '' else None\n",
        "\n",
        "    # extract LIMIT number\n",
        "    limit_start = query.find(' LIMIT ') + 7 if ' LIMIT ' in query else len(query)\n",
        "    limit_clause = query[limit_start:].strip()\n",
        "    limit_number = int(limit_clause) if limit_clause.isdigit() else None\n",
        "\n",
        "    # return dictionary of subitems\n",
        "    return {'SELECT': select_items, 'FROM': from_items, 'WHERE': where_items, \n",
        "            'GROUP BY': group_items, 'HAVING': having_items, 'ORDER BY': order_items, 'LIMIT': [limit_number]}\n",
        "\n",
        "def sql_query_accuracy(query, true_query):\n",
        "    # split the queries into parts using the updated split_sql_query function\n",
        "    query_parts = split_sql_query(query)\n",
        "    true_query_parts = split_sql_query(true_query)\n",
        "\n",
        "    # define the weights for each main query part\n",
        "    weights = {'SELECT': 2, 'FROM': 1, 'WHERE': 3, 'GROUP BY': 2, 'HAVING': 2, 'ORDER BY': 1, 'LIMIT': 2}\n",
        "\n",
        "    # initialize the total and matching subitems counts\n",
        "    total_count = 0\n",
        "    matching_count = 0\n",
        "\n",
        "    # iterate over the query parts and compare them with the true query parts\n",
        "    for part_name, part_list in query_parts.items():\n",
        "        true_part_list = true_query_parts.get(part_name, [])\n",
        "\n",
        "        # calculate the weight for the current part\n",
        "        weight = weights.get(part_name, 1)\n",
        "\n",
        "        # skip the loop iteration if the part_list is None\n",
        "        if part_list is None:\n",
        "          if true_part_list is None:\n",
        "            continue\n",
        "          else:\n",
        "            total_count += weight\n",
        "            continue\n",
        "        elif true_part_list is None:\n",
        "          total_count += weight\n",
        "          continue\n",
        "\n",
        "        # iterate over the subitems in the query part and compare them with the true query part\n",
        "        for subitem in set(part_list).union(set(true_part_list)):\n",
        "            total_count += weight\n",
        "            if subitem in true_part_list and subitem in part_list:\n",
        "                matching_count += weight\n",
        "\n",
        "    # calculate the accuracy score as the percentage of matching subitems\n",
        "    if total_count == 0:\n",
        "        accuracy_score = 0\n",
        "    else:\n",
        "        accuracy_score = matching_count / total_count * 100\n",
        "\n",
        "    return accuracy_score"
      ]
    },
    {
      "cell_type": "markdown",
      "id": "ea2dffbc",
      "metadata": {},
      "source": [
        "**Evaluation Case #1** : This refers to cases where the same columns and conditions are used, producing identical execution results, but the query expressions differ. A key characteristic is the inclusion of aliases, which do not affect the evaluation."
      ]
    },
    {
      "cell_type": "code",
      "execution_count": 13,
      "id": "92830aa0",
      "metadata": {},
      "outputs": [
        {
          "name": "stdout",
          "output_type": "stream",
          "text": [
            "Accuracy score: 100.00%\n"
          ]
        }
      ],
      "source": [
        "# Evaluation Case #1\n",
        "sql1 = \"SELECT name, age as AGE FROM users WHERE AGE > 20\"\n",
        "sql2 = \"SELECT age, name as NAME FROM users WHERE age > 20\"\n",
        "\n",
        "accuracy = sql_query_accuracy(sql1, sql2)\n",
        "print(f\"Accuracy score: {accuracy:.2f}%\")"
      ]
    },
    {
      "cell_type": "markdown",
      "id": "e15c4ae1",
      "metadata": {},
      "source": [
        "**Evaluation Case #2** : This refers to cases where the same columns are used but with different conditions, resulting in variations in execution outcomes. Due to the nature of the evaluation algorithm, differences in the WHERE clause, which pertains to conditions within SELECT, FROM, and WHERE, lead to an inconsistency rate of approximately 33.3%."
      ]
    },
    {
      "cell_type": "code",
      "execution_count": 14,
      "id": "5ca568d7",
      "metadata": {},
      "outputs": [
        {
          "name": "stdout",
          "output_type": "stream",
          "text": [
            "Accuracy score: 66.67%\n"
          ]
        }
      ],
      "source": [
        "# Evaluation Case #2\n",
        "sql3 = \"SELECT name, age FROM users WHERE age = 20\"\n",
        "sql4 = \"SELECT name, age FROM users WHERE age > 20\"\n",
        "\n",
        "accuracy = sql_query_accuracy(sql3, sql4)\n",
        "print(f\"Accuracy score: {accuracy:.2f}%\")"
      ]
    }
  ],
  "metadata": {
    "kernelspec": {
      "display_name": "langchain-opentutorials",
      "language": "python",
      "name": "python3"
    },
    "language_info": {
      "codemirror_mode": {
        "name": "ipython",
        "version": 3
      },
      "file_extension": ".py",
      "mimetype": "text/x-python",
      "name": "python",
      "nbconvert_exporter": "python",
      "pygments_lexer": "ipython3",
      "version": "3.11.9"
    }
  },
  "nbformat": 4,
  "nbformat_minor": 5
}
