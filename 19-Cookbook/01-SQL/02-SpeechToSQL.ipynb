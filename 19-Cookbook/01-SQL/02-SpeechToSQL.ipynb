{
 "cells": [
  {
   "cell_type": "markdown",
   "metadata": {},
   "source": [
    "# SpeechToSQL \n",
    "- Author: [Dooil Kwak](https://github.com/back2zion)\n",
    "- Design: -\n",
    "- Peer Review : [Ilgyun Jeong](https://github.com/johnny9210), [Jaehun Choi](https://github.com/ash-hun)\n",
    "- This is a part of [LangChain Open Tutorial](https://github.com/LangChain-OpenTutorial/LangChain-OpenTutorial)\n",
    "\n",
    "[![Open in Colab](https://colab.research.google.com/assets/colab-badge.svg)](https://colab.research.google.com/github/LangChain-OpenTutorial/LangChain-OpenTutorial/blob/main/19-Cookbook/01-SQL/02-SpeechToSQL.ipynb) [![Open in GitHub](https://img.shields.io/badge/Open%20in%20GitHub-181717?style=flat-square&logo=github&logoColor=white)](https://github.com/LangChain-OpenTutorial/LangChain-OpenTutorial/blob/main/19-Cookbook/01-SQL/02-SpeechToSQL.ipynb)\n"
   ]
  },
  {
   "cell_type": "markdown",
   "metadata": {},
   "source": [
    "## Overview\n",
    "\n",
    "The Speech to SQL system is a powerful tool that converts spoken language into SQL queries. It combines advanced speech recognition with natural language processing to enable hands-free database interactions.\n",
    "\n",
    "**Key Features**:\n",
    "\n",
    "- **Real-time Speech Processing**: \n",
    "  Captures and processes voice input in real-time, supporting various microphone configurations.\n",
    "\n",
    "- **Accurate Speech Recognition**: \n",
    "  Uses Whisper model for reliable speech-to-text conversion with support for clear English queries.\n",
    "\n",
    "- **SQL Query Generation**: \n",
    "  Transforms natural language questions into properly formatted SQL queries.\n",
    "\n",
    "**System Requirements**:\n",
    "- Python 3.8 or higher\n",
    "- Working microphone"
   ]
  },
  {
   "cell_type": "markdown",
   "metadata": {},
   "source": [
    "### Table of Contents \n",
    "\n",
    "- [Overview](#overview)\n",
    "- [Installation and Setup](#installation-and-setup)\n",
    "- [Audio Device Configuration](#audio-device-configuration)\n",
    "- [Speech Recognition Setup](#speech-recognition-setup)\n",
    "- [Basic Usage](#basic-usage)\n",
    "- [Advanced Usage and Troubleshooting](#advanced-usage-and-troubleshooting)"
   ]
  },
  {
   "cell_type": "markdown",
   "metadata": {},
   "source": [
    "### References\n",
    "- [Faster Whisper Documentation > Python API Reference](https://github.com/guillaumekln/faster-whisper)\n",
    "- [SoundDevice Documentation > Python API Reference](https://python-sounddevice.readthedocs.io/en/0.4.6/)\n",
    "- [Wavio Documentation > Audio File Handling](https://github.com/WarrenWeckesser/wavio)\n",
    "- [NumPy Documentation > Audio Processing](https://numpy.org/doc/stable/reference/routines.html#audio-processing)"
   ]
  },
  {
   "cell_type": "markdown",
   "metadata": {},
   "source": [
    "## Installation and Setup\n",
    "\n",
    "Before we begin, let's install all necessary packages. This tutorial requires several Python packages for speech processing, SQL operations, and machine learning:\n",
    "\n",
    "1. LangChain Components:\n",
    "   - `langchain-community`: Core LangChain functionality and community components\n",
    "   - `langchain-openai`: OpenAI integration\n",
    "   - `langchain-core`: Essential LangChain components\n",
    "\n",
    "2. Database and API:\n",
    "   - `openai`: For OpenAI API access\n",
    "   - `sqlalchemy`: For database operations\n",
    "   - `python-dotenv`: For environment variable management\n",
    "   - `torch`: For faster-whisper\n",
    "\n",
    "3. Audio Processing:\n",
    "   - `sounddevice`: For audio capture\n",
    "   - `numpy`: For data processing\n",
    "   - `wavio`: For audio file handling\n",
    "   - `faster-whisper`: For speech recognition\n",
    "\n",
    "4. Additional dependencies:\n",
    "   - `blosc2`: For data compression\n",
    "   - `cython`: For Python-C integration\n",
    "   - `black`: For code formatting\n",
    "   \n",
    "After running the installation cell, you may need to restart the kernel for the changes to take effect. We'll verify the installation in the next step.   \n",
    "\n",
    "### Windows Users: Important Note\n",
    "If you encounter a permission error during installation such as \"Access is denied\", you have two options:\n",
    "\n",
    "1. Use the `--user` option with pip (recommended):\n",
    "   - This installs packages in your user directory, avoiding permission issues\n",
    "   - We've already included this option in the installation command\n",
    "\n",
    "2. Alternative: Run Jupyter as Administrator:\n",
    "   - Only if the first option doesn't work\n",
    "   - Right-click on Jupyter Notebook\n",
    "   - Select \"Run as administrator\"\n",
    "   - Then try the installation again\n",
    "\n",
    "After installation, you'll need to restart the kernel regardless of which method you use.\n",
    "\n",
    "### Verification\n",
    "After installation and kernel restart, run the verification cell below to ensure everything is set up correctly:\n",
    "\n",
    "Run the following cells to install all required packages:"
   ]
  },
  {
   "cell_type": "code",
   "execution_count": 33,
   "metadata": {},
   "outputs": [],
   "source": [
    "%%capture --no-stderr\n",
    "%pip install langchain-opentutorial"
   ]
  },
  {
   "cell_type": "code",
   "execution_count": 34,
   "metadata": {},
   "outputs": [
    {
     "name": "stdout",
     "output_type": "stream",
     "text": [
      "✓ Installation complete!\n"
     ]
    }
   ],
   "source": [
    "# Install required packages with compatible versions\n",
    "# -*- coding: utf-8 -*-\n",
    "import subprocess\n",
    "import sys\n",
    "\n",
    "def install_packages():\n",
    "   packages = [\n",
    "       'langchain-core>=0.3.29,<0.4.0',\n",
    "       'langchain-community==0.0.24',\n",
    "       'langchain-openai==0.0.5', \n",
    "       'openai==1.12.0',\n",
    "       'sqlalchemy==2.0.27',\n",
    "       'python-dotenv==1.0.1',\n",
    "       'sounddevice==0.4.6',\n",
    "       'numpy==1.24.3',\n",
    "       'wavio==0.0.8',\n",
    "       'faster-whisper==0.10.0',\n",
    "       'blosc2~=2.0.0',\n",
    "       'cython>=0.29.21',\n",
    "       'black>=22.3.0'\n",
    "   ]\n",
    "   \n",
    "   for package in packages:\n",
    "       try:\n",
    "           subprocess.check_call([sys.executable, '-m', 'pip', 'install', package, '--quiet'])\n",
    "       except subprocess.CalledProcessError:\n",
    "           print(f\"Failed to install {package}\")\n",
    "           continue\n",
    "   \n",
    "   print(\"✓ Installation complete!\")\n",
    "\n",
    "install_packages()"
   ]
  },
  {
   "cell_type": "markdown",
   "metadata": {},
   "source": [
    "### Important Note About Package Installation\n",
    "After running the installation cell, you might see messages like:\n",
    "This is normal! Here's what you need to do:\n",
    "\n",
    "'Note: you may need to restart the kernel to use updated packages.'\n",
    "\n",
    "1. First, look for the \"✓ All packages installed successfully!\" message to confirm the installation worked\n",
    "2. Then, restart the Jupyter kernel to ensure all packages are properly loaded:\n",
    "   - Click on the \"Kernel\" menu at the top\n",
    "   - Select \"Restart Kernel...\"\n",
    "   - Click \"Restart\" when prompted\n",
    "\n",
    "After restarting the kernel, run the following verification cell to make sure everything is set up correctly:\n",
    "\n",
    "Now let's verify that everything is ready to use:"
   ]
  },
  {
   "cell_type": "code",
   "execution_count": 35,
   "metadata": {},
   "outputs": [
    {
     "name": "stdout",
     "output_type": "stream",
     "text": [
      "✓ All set! Let's move on to the next step.\n"
     ]
    }
   ],
   "source": [
    "try:\n",
    "    import sounddevice as sd\n",
    "    import numpy as np\n",
    "    from faster_whisper import WhisperModel\n",
    "    print(\"✓ All set! Let's move on to the next step.\")\n",
    "except ImportError as e:\n",
    "    print(f\"✗ Something's missing. Please try running the installation command again.\")"
   ]
  },
  {
   "cell_type": "markdown",
   "metadata": {},
   "source": [
    "### Verifying Package Installation\n",
    "\n",
    "After installing the packages and restarting the kernel, let's verify that everything is set up correctly.\n",
    "\n",
    "If you see any ✗ marks, it means that package wasn't installed correctly. Try these steps:\n",
    "1. Run the installation cell again\n",
    "2. Restart the kernel\n",
    "3. Run the verification cell again\n",
    "\n",
    "If you still see errors, make sure you have sufficient permissions and a stable internet connection."
   ]
  },
  {
   "cell_type": "code",
   "execution_count": 36,
   "metadata": {},
   "outputs": [
    {
     "data": {
      "text/plain": [
       "True"
      ]
     },
     "execution_count": 36,
     "metadata": {},
     "output_type": "execute_result"
    }
   ],
   "source": [
    "# Import necessary libraries\n",
    "import sounddevice as sd\n",
    "import numpy as np\n",
    "import wavio\n",
    "import os\n",
    "import time\n",
    "from faster_whisper import WhisperModel\n",
    "import torch\n",
    "from dotenv import load_dotenv\n",
    "\n",
    "# Load environment variables\n",
    "load_dotenv(override=True)"
   ]
  },
  {
   "cell_type": "markdown",
   "metadata": {},
   "source": [
    "## Audio Device Configuration\n",
    "\n",
    "A crucial first step is selecting the correct audio input device. Let's identify and configure your system's microphone.\n",
    "\n",
    "**Note**: You'll see a filtered list of input devices only, making it easier to choose the correct microphone."
   ]
  },
  {
   "cell_type": "code",
   "execution_count": 37,
   "metadata": {},
   "outputs": [
    {
     "name": "stdout",
     "output_type": "stream",
     "text": [
      "\n",
      "Available Audio Input Devices:\n",
      "==================================================\n",
      "Device 0: Microsoft 사운드 매퍼 - Input\n",
      "  Channels: 2\n",
      "  Sample Rate: 44100.0Hz\n",
      "--------------------------------------------------\n",
      "Device 1: 마이크 배열(디지털 마이크용 인텔® 스마트 사운드 기술)\n",
      "  Channels: 2\n",
      "  Sample Rate: 44100.0Hz\n",
      "--------------------------------------------------\n",
      "Device 4: 주 사운드 캡처 드라이버\n",
      "  Channels: 2\n",
      "  Sample Rate: 44100.0Hz\n",
      "--------------------------------------------------\n",
      "Device 8: Realtek ASIO\n",
      "  Channels: 2\n",
      "  Sample Rate: 44100.0Hz\n",
      "--------------------------------------------------\n",
      "Device 13: PC Speaker (Realtek HD Audio output with SST)\n",
      "  Channels: 2\n",
      "  Sample Rate: 48000.0Hz\n",
      "--------------------------------------------------\n",
      "Device 14: Input 1 (Realtek HD Audio Mic input with SST)\n",
      "  Channels: 2\n",
      "  Sample Rate: 48000.0Hz\n",
      "--------------------------------------------------\n",
      "Device 15: Input 2 (Realtek HD Audio Mic input with SST)\n",
      "  Channels: 4\n",
      "  Sample Rate: 16000.0Hz\n",
      "--------------------------------------------------\n",
      "Device 16: Stereo Mix (Realtek HD Audio Stereo input)\n",
      "  Channels: 2\n",
      "  Sample Rate: 48000.0Hz\n",
      "--------------------------------------------------\n",
      "Device 18: Headset (@System32\\drivers\\bthhfenum.sys\n",
      "  Channels: 1\n",
      "  Sample Rate: 8000.0Hz\n",
      "--------------------------------------------------\n",
      "Device 19: Microphone Array 1 ()\n",
      "  Channels: 2\n",
      "  Sample Rate: 48000.0Hz\n",
      "--------------------------------------------------\n",
      "Device 20: Microphone Array 2 ()\n",
      "  Channels: 4\n",
      "  Sample Rate: 16000.0Hz\n",
      "--------------------------------------------------\n",
      "Device 22: Headset Microphone (@System32\\drivers\\bthhfenum.sys\n",
      "  Channels: 1\n",
      "  Sample Rate: 8000.0Hz\n",
      "--------------------------------------------------\n"
     ]
    }
   ],
   "source": [
    "def list_audio_input_devices():\n",
    "    \"\"\"Display only audio input devices with clear formatting.\"\"\"\n",
    "    print(\"\\nAvailable Audio Input Devices:\")\n",
    "    print(\"=\" * 50)\n",
    "    \n",
    "    input_devices = []\n",
    "    for idx, device in enumerate(sd.query_devices()):\n",
    "        if device['max_input_channels'] > 0:  # Only show input devices\n",
    "            # Skip duplicate devices (different APIs)\n",
    "            device_name = device['name'].split(',')[0]  # Remove API information\n",
    "            if not any(d['name'].startswith(device_name) for d in input_devices):\n",
    "                input_devices.append({\n",
    "                    'index': idx,\n",
    "                    'name': device_name,\n",
    "                    'channels': device['max_input_channels'],\n",
    "                    'sample_rate': device['default_samplerate']\n",
    "                })\n",
    "                \n",
    "                print(f\"Device {idx}: {device_name}\")\n",
    "                print(f\"  Channels: {device['max_input_channels']}\")\n",
    "                print(f\"  Sample Rate: {device['default_samplerate']}Hz\")\n",
    "                print(\"-\" * 50)\n",
    "    \n",
    "    return input_devices\n",
    "\n",
    "# List available input devices\n",
    "input_devices = list_audio_input_devices()"
   ]
  },
  {
   "cell_type": "code",
   "execution_count": 38,
   "metadata": {},
   "outputs": [],
   "source": [
    "def test_audio_device(device_index, duration=1):\n",
    "    \"\"\"\n",
    "    Test if an audio device works properly.\n",
    "    Args:\n",
    "        device_index (int): The index of the device to test\n",
    "        duration (float): Test duration in seconds\n",
    "    Returns:\n",
    "        bool: True if device works, False otherwise\n",
    "    \"\"\"\n",
    "    try:\n",
    "        print(f\"Testing audio device {device_index}...\")\n",
    "        with sd.InputStream(device=device_index, channels=1, samplerate=16000):\n",
    "            print(\"✓ Device initialized successfully\")\n",
    "            return True\n",
    "    except Exception as e:\n",
    "        print(f\"✗ Device test failed: {str(e)}\")\n",
    "        return False"
   ]
  },
  {
   "cell_type": "markdown",
   "metadata": {},
   "source": [
    "### Audio Device Selection and Testing\n",
    "\n",
    "After viewing the available devices above, you'll need to select and test your microphone. Choose a device with input channels (marked as \"Channels: X\" where X > 0).\n",
    "\n",
    "**Important Tips**:\n",
    "- Choose a device with clear device name (avoid generic names like \"Default Input\")\n",
    "- Prefer devices with 1 or 2 input channels\n",
    "- If using a USB microphone, make sure it's properly connected\n",
    "- Test the device before proceeding to actual recording"
   ]
  },
  {
   "cell_type": "code",
   "execution_count": 39,
   "metadata": {},
   "outputs": [
    {
     "name": "stdout",
     "output_type": "stream",
     "text": [
      "\n",
      "Testing default device: Microsoft 사운드 매퍼 - Input\n",
      "Testing audio device 0...\n",
      "✓ Device initialized successfully\n",
      "\n",
      "Default device set to: Microsoft 사운드 매퍼 - Input\n",
      "Sample rate: 44100.0Hz\n"
     ]
    }
   ],
   "source": [
    "# Let's test the first available input device as default\n",
    "if input_devices:\n",
    "    default_device = input_devices[0]\n",
    "    print(f\"\\nTesting default device: {default_device['name']}\")\n",
    "    if test_audio_device(default_device['index']):\n",
    "        # Set as default device\n",
    "        os.environ['DEFAULT_DEVICE'] = str(default_device['index'])\n",
    "        os.environ['SAMPLE_RATE'] = str(int(default_device['sample_rate']))\n",
    "        print(f\"\\nDefault device set to: {default_device['name']}\")\n",
    "        print(f\"Sample rate: {default_device['sample_rate']}Hz\")\n",
    "    else:\n",
    "        print(\"\\nPlease select a different device and try again.\")\n",
    "else:\n",
    "    print(\"\\nNo input devices found. Please check your microphone connection.\")"
   ]
  },
  {
   "cell_type": "markdown",
   "metadata": {},
   "source": [
    "## Speech Recognition Setup\n",
    "\n",
    "Now let's set up the speech recognition component using the Whisper model. \n",
    "\n",
    "**Note**: The first time you run this, it will download the Whisper model. This might take a few minutes depending on your internet connection."
   ]
  },
  {
   "cell_type": "code",
   "execution_count": 40,
   "metadata": {},
   "outputs": [
    {
     "name": "stdout",
     "output_type": "stream",
     "text": [
      "✓ Whisper model initialized successfully\n"
     ]
    }
   ],
   "source": [
    "def initialize_whisper():\n",
    "    \"\"\"Initialize the Whisper model.\"\"\"\n",
    "    try:\n",
    "        # Initialize Whisper model with base configuration\n",
    "        model = WhisperModel(\n",
    "            model_size_or_path=\"base\",  # Using 'base' model for faster CPU processing\n",
    "            device=\"cpu\",\n",
    "            compute_type=\"int8\"  # Optimized for CPU\n",
    "        )\n",
    "        print(\"✓ Whisper model initialized successfully\")\n",
    "        return model\n",
    "    except Exception as e:\n",
    "        print(f\"✗ Error initializing Whisper model: {str(e)}\")\n",
    "        print(\"Please make sure all packages are installed correctly.\")\n",
    "        return None\n",
    "\n",
    "model = initialize_whisper()"
   ]
  },
  {
   "cell_type": "markdown",
   "metadata": {},
   "source": [
    "## Basic Usage\n",
    "\n",
    "Let's implement the core components for speech-to-SQL conversion. We'll create a robust system that can:\n",
    "1. Record audio from your microphone\n",
    "2. Convert speech to text\n",
    "3. Transform the text into SQL queries"
   ]
  },
  {
   "cell_type": "markdown",
   "metadata": {},
   "source": [
    "### **Step 1: Record Audio from Your Microphone**\n",
    "\n",
    "The `AudioRecorder` class records audio input from the user's microphone and saves it as a temporary audio file."
   ]
  },
  {
   "cell_type": "code",
   "execution_count": 41,
   "metadata": {},
   "outputs": [],
   "source": [
    "# 1. Record audio from your microphone\n",
    "import sounddevice as sd\n",
    "import numpy as np\n",
    "import wavio\n",
    "import tempfile\n",
    "\n",
    "class AudioRecorder:\n",
    "    def __init__(self):\n",
    "        self._samplerate = 16000\n",
    "        self.audio_data = []\n",
    "        self.recording = False\n",
    "        self.stream = None\n",
    "\n",
    "    def start_recording(self, device_id=0):\n",
    "        \"\"\"Start recording audio\"\"\"\n",
    "        try:\n",
    "            self.stream = sd.InputStream(\n",
    "                channels=1,\n",
    "                samplerate=self._samplerate,\n",
    "                callback=self._audio_callback,\n",
    "                device=device_id\n",
    "            )\n",
    "            self.audio_data = []\n",
    "            self.recording = True\n",
    "            self.stream.start()\n",
    "            print(\"Recording started. Speak now!\")\n",
    "            return True\n",
    "        except Exception as e:\n",
    "            print(f\"Recording failed: {str(e)}\")\n",
    "            return False\n",
    "\n",
    "    def _audio_callback(self, indata, frames, time, status):\n",
    "        if self.recording:\n",
    "            self.audio_data.append(indata.copy())\n",
    "\n",
    "    def stop_and_process(self):\n",
    "        \"\"\"Stop recording and save audio data\"\"\"\n",
    "        if self.stream:\n",
    "            self.stream.stop()\n",
    "            self.stream.close()\n",
    "            self.recording = False\n",
    "            if len(self.audio_data) > 0:\n",
    "                audio = np.concatenate(self.audio_data)\n",
    "                with tempfile.NamedTemporaryFile(delete=False, suffix=\".wav\") as tmpfile:\n",
    "                    wavio.write(tmpfile.name, audio, self._samplerate, sampwidth=2)\n",
    "                return tmpfile.name\n",
    "        return None"
   ]
  },
  {
   "cell_type": "markdown",
   "metadata": {},
   "source": [
    "### **Step 2: Convert Speech to Text**\n",
    "\n",
    "We use the Whisper model for accurate transcription of recorded audio into text."
   ]
  },
  {
   "cell_type": "code",
   "execution_count": 42,
   "metadata": {},
   "outputs": [],
   "source": [
    "# 2. Convert speech to text\n",
    "\n",
    "from faster_whisper import WhisperModel\n",
    "\n",
    "def initialize_whisper():\n",
    "    \"\"\"Initialize the Whisper model with English language setting\"\"\"\n",
    "    return WhisperModel(\"base\", device=\"cpu\", compute_type=\"int8\")\n",
    "\n",
    "class AudioProcessor:\n",
    "    def __init__(self, model):\n",
    "        self.model = model\n",
    "\n",
    "    def transcribe_audio(self, audio_file):\n",
    "        \"\"\"Transcribe audio to text using Whisper with English language enforcement\"\"\"\n",
    "        try:\n",
    "            segments, _ = self.model.transcribe(audio_file, language=\"en\")  \n",
    "            return \" \".join([segment.text for segment in segments])\n",
    "        except Exception as e:\n",
    "            print(f\"Transcription failed: {str(e)}\")\n",
    "            return None\n"
   ]
  },
  {
   "cell_type": "markdown",
   "metadata": {},
   "source": [
    "### **Step 3: Transform Text into SQL Queries**\n",
    "\n",
    "We use the LangChain library to transform natural language text into SQL queries."
   ]
  },
  {
   "cell_type": "code",
   "execution_count": 43,
   "metadata": {},
   "outputs": [],
   "source": [
    "from langchain_core.prompts import ChatPromptTemplate\n",
    "from langchain_core.messages import HumanMessage  \n",
    "from langchain_openai import ChatOpenAI\n",
    "\n",
    "class SQLQueryGenerator:\n",
    "   def __init__(self):\n",
    "       self.llm = ChatOpenAI(model=\"gpt-4o\", temperature=0)\n",
    "       self.template = ChatPromptTemplate.from_messages([\n",
    "           (\"system\", \"You are an SQL query generator.\"),\n",
    "           (\"human\", \"{query_text}\")\n",
    "       ])\n",
    "\n",
    "   def generate_sql(self, query_text):\n",
    "       try:\n",
    "           prompt = self.template.format_messages(query_text=query_text)\n",
    "           result = self.llm.invoke(prompt)\n",
    "           return result.content\n",
    "       except Exception as e:\n",
    "           return f\"Error: {str(e)}\""
   ]
  },
  {
   "cell_type": "markdown",
   "metadata": {},
   "source": [
    "### **Step 4: Putting It All Together**\n",
    "\n",
    "Finally, we combine all the components into a single process that listens for audio input, transcribes it, and generates an SQL query."
   ]
  },
  {
   "cell_type": "code",
   "execution_count": 50,
   "metadata": {},
   "outputs": [],
   "source": [
    "import time\n",
    "\n",
    "def process_speech_to_sql(duration=5):\n",
    "    \"\"\"Main function for speech-to-SQL conversion\"\"\"\n",
    "    print(\"\\n=== Starting Speech to SQL Process ===\")\n",
    "    print(\"Recording will start in:\")\n",
    "    for i in range(3, 0, -1):\n",
    "        print(f\"{i}...\")\n",
    "        time.sleep(1)\n",
    "\n",
    "    # Step 1: Record Audio\n",
    "    recorder = AudioRecorder()\n",
    "    if recorder.start_recording():\n",
    "        print(\"\\nSpeak your query now... (10 seconds)\")\n",
    "        time.sleep(duration)\n",
    "        audio_file = recorder.stop_and_process()\n",
    "        print(f\"Saved audio file: {audio_file}\")\n",
    "\n",
    "        # Step 2: Speech-to-Text\n",
    "        if audio_file:\n",
    "            model = initialize_whisper()\n",
    "            processor = AudioProcessor(model)\n",
    "            print(\"Processing audio...\")\n",
    "            text = processor.transcribe_audio(audio_file)\n",
    "            print(f\"Transcribed Text: {text}\")\n",
    "\n",
    "            # Step 3: SQL Query Generation\n",
    "            sql_generator = SQLQueryGenerator()\n",
    "            sql_query = sql_generator.generate_sql(text)\n",
    "            print(f\"Generated SQL Query: {sql_query}\")\n",
    "            return sql_query"
   ]
  },
  {
   "cell_type": "markdown",
   "metadata": {},
   "source": [
    "Let's try it out! Run this command to start recording:"
   ]
  },
  {
   "cell_type": "code",
   "execution_count": 54,
   "metadata": {},
   "outputs": [
    {
     "name": "stdout",
     "output_type": "stream",
     "text": [
      "\n",
      "=== Starting Speech to SQL Process ===\n",
      "Recording will start in:\n",
      "3...\n",
      "2...\n",
      "1...\n",
      "Recording started. Speak now!\n",
      "\n",
      "Speak your query now... (10 seconds)\n",
      "Saved audio file: C:\\Users\\rhkre\\AppData\\Local\\Temp\\tmp47m8xvlx.wav\n",
      "Processing audio...\n",
      "Transcribed Text:  Find Top 10 Customers by Revenue\n",
      "Generated SQL Query: To find the top 10 customers by revenue, you would typically need a table that contains customer information and a table that records transactions or orders, including the revenue generated by each transaction. Assuming you have a `customers` table and an `orders` table, where the `orders` table includes a `customer_id` and a `revenue` column, you can use the following SQL query:\n",
      "\n",
      "```sql\n",
      "SELECT c.customer_id, c.customer_name, SUM(o.revenue) AS total_revenue\n",
      "FROM customers c\n",
      "JOIN orders o ON c.customer_id = o.customer_id\n",
      "GROUP BY c.customer_id, c.customer_name\n",
      "ORDER BY total_revenue DESC\n",
      "LIMIT 10;\n",
      "```\n",
      "\n",
      "This query does the following:\n",
      "- Joins the `customers` table with the `orders` table on the `customer_id`.\n",
      "- Groups the results by each customer to calculate the total revenue for each customer.\n",
      "- Orders the results in descending order based on the total revenue.\n",
      "- Limits the results to the top 10 customers. \n",
      "\n",
      "Make sure to replace `customer_name` and `revenue` with the actual column names used in your database schema if they differ.\n"
     ]
    }
   ],
   "source": [
    "query_text = process_speech_to_sql(duration=10)  # 10 seconds recording"
   ]
  },
  {
   "cell_type": "markdown",
   "metadata": {},
   "source": [
    "## Example Queries\n",
    "\n",
    "Here are some example queries you can try with the system:\n",
    "\n",
    "1. \"Show sales figures for the last quarter\"\n",
    "2. \"Find top 10 customers by revenue\"\n",
    "3. \"List all products with inventory below 100 units\"\n",
    "4. \"Calculate total sales by region\"\n",
    "5. \"Get employee performance metrics for 2023\"\n",
    "\n",
    "These queries demonstrate the range of SQL operations our system can handle."
   ]
  },
  {
   "cell_type": "markdown",
   "metadata": {},
   "source": [
    "## Advanced Usage and Troubleshooting\n",
    "\n",
    "### Common Issues and Solutions\n",
    "\n",
    "1. **No audio device found**\n",
    "   - Check if your microphone is properly connected\n",
    "   - Try unplugging and reconnecting your microphone\n",
    "   - Verify microphone permissions in your OS settings\n",
    "\n",
    "2. **Poor recognition accuracy**\n",
    "   - Speak clearly and at a moderate pace\n",
    "   - Minimize background noise\n",
    "   - Keep the microphone at an appropriate distance\n",
    "\n",
    "3. **Device initialization errors**\n",
    "   - Try selecting a different audio device\n",
    "   - Restart your Python kernel\n",
    "   - Check if another application is using the microphone"
   ]
  },
  {
   "cell_type": "markdown",
   "metadata": {},
   "source": [
    "----"
   ]
  }
 ],
 "metadata": {
  "kernelspec": {
   "display_name": "langchain-tutorial",
   "language": "python",
   "name": "langchain-tutorial"
  },
  "language_info": {
   "codemirror_mode": {
    "name": "ipython",
    "version": 3
   },
   "file_extension": ".py",
   "mimetype": "text/x-python",
   "name": "python",
   "nbconvert_exporter": "python",
   "pygments_lexer": "ipython3",
   "version": "3.11.9"
  }
 },
 "nbformat": 4,
 "nbformat_minor": 4
}
