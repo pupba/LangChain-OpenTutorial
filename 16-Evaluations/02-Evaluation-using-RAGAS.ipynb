{
 "cells": [
  {
   "cell_type": "markdown",
   "metadata": {},
   "source": [
    "# Evaluation using RAGAS\n",
    "\n",
    "- Author: [Sungchul Kim](https://github.com/rlatjcj)\n",
    "- Peer Review: [Yoonji](https://github.com/samdaseuss), [Sunyoung Park](https://github.com/architectyou)\n",
    "- This is a part of [LangChain Open Tutorial](https://github.com/LangChain-OpenTutorial/LangChain-OpenTutorial)\n",
    "\n",
    "[![Open in Colab](https://colab.research.google.com/assets/colab-badge.svg)](https://colab.research.google.com/github/LangChain-OpenTutorial/LangChain-OpenTutorial/blob/main/16-Evaluations/02-Evaluation-using-RAGAS.ipynb) [![Open in GitHub](https://img.shields.io/badge/Open%20in%20GitHub-181717?style=flat-square&logo=github&logoColor=white)](https://github.com/LangChain-OpenTutorial/LangChain-OpenTutorial/blob/main/16-Evaluations/02-Evaluation-using-RAGAS.ipynb)\n",
    "\n",
    "## Overview\n",
    "This tutorial will show you how to evaluate the quality of your LLM output using RAGAS.\n",
    "\n",
    "Before starting this tutorial, let's review metrics to be used in this tutorial, **Context Recall**, **Context Precision**, **Answer Relevancy**, and **Faithfulness** first.\n",
    "\n",
    "### Context Recall\n",
    "\n",
    "It estimates \"how well the retrieved context matches the LLM-generated answer\".  \n",
    "It is calculated using question, ground truth, and retrieved context. The value is between 0 and 1, and higher values indicate better performance. To estimate context recall from the ground truth answer, each claim in the ground truth answer is analyzed to see if it can be attributed to the retrieved context. In the ideal scenario, all claims in the ground truth answer should be able to be attributed to the retrieved context.\n",
    "\n",
    "$$\\text{Context Recall} = \\frac{|\\text{GT claims that can be attributed to context}|}{|\\text{Number of claims in GT}|}$$\n",
    "\n",
    "\n",
    "### Context Precision\n",
    "\n",
    "It estimates \"whether ground-truth related items in contexts are ranked at the top\".\n",
    "\n",
    "Ideally, all relevant chunks should appear in the top ranks. This metric is calculated using question, ground_truth, and contexts, with values ranging from 0 to 1. Higher scores indicate better precision.\n",
    "\n",
    "The formula for Context Precision@K is as follows:\n",
    "\n",
    "$$\\text{Context Precision@K} = \\frac{\\sum_{k=1}^{K} (\\text{Precision@k} \\times v_k)}{\\text{Total number of relevant items in the top K results}}$$\n",
    "\n",
    "Here, Precision@k is calculated as follows:\n",
    "\n",
    "$$\\text{Precision@k} = \\frac{\\text{true positives@k}}{(\\text{true positives@k + false positives@k})}$$\n",
    "\n",
    "K is the total number of chunks in contexts, and $v_k \\in \\{0, 1\\}$ is the relevance indicator at rank k.\n",
    "\n",
    "This metric is used to evaluate the quality of the retrieved context in information retrieval systems. It measures how well relevant information is placed in the top ranks, allowing for performance assessment.\n",
    "\n",
    "\n",
    "### Answer Relevancy (Response Relevancy)\n",
    "\n",
    "It is a metric that evaluates \"how well the generated answer matches the given prompt\".\n",
    "\n",
    "The main features and calculation methods of this metric are as follows:\n",
    "\n",
    "1. Purpose: Evaluate the relevance of the generated answer.\n",
    "2. Score interpretation: Lower scores indicate incomplete or duplicate information in the answer, while higher scores indicate better relevance.\n",
    "3. Elements used in calculation: question, context, answer\n",
    "\n",
    "The calculation method for Answer Relevancy is defined as the average cosine similarity between the original question and the generated synthetic questions.\n",
    "\n",
    "$$\\text{answer relevancy} = \\frac{1}{N} \\sum_{i=1}^N \\cos(E_{g_i}, E_o)$$\n",
    "\n",
    "or\n",
    "\n",
    "$$\\text{answer relevancy} = \\frac{1}{N} \\sum_{i=1}^N \\frac{E_{g_i} \\cdot E_o}{\\|E_{g_i}\\| \\|E_o\\|}$$\n",
    "\n",
    "Here:\n",
    "- $E_{g_i}$ is the embedding of the generated question $i$\n",
    "- $E_o$ is the embedding of the original question\n",
    "- $N$ is the number of generated questions (default value is 3)\n",
    "\n",
    "Note:\n",
    "- The actual score is mostly between 0 and 1, but mathematically it can be between -1 and 1 due to the characteristics of cosine similarity.\n",
    "\n",
    "This metric is useful for evaluating the performance of question-answering systems, particularly for measuring how well the generated answer reflects the original question's intent.\n",
    "\n",
    "\n",
    "### Faithfulness\n",
    "\n",
    "It is a metric that evaluates \"the factual consistency of the generated answer compared to the given context\".\n",
    "\n",
    "The main features and calculation methods of this metric are as follows:\n",
    "\n",
    "1. Purpose: Evaluate the factual consistency of the generated answer compared to the given context.\n",
    "2. Calculation elements: Use the generated answer and the retrieved context.\n",
    "3. Score range: Adjusted between 0 and 1, with higher values indicating better performance.\n",
    "\n",
    "The calculation method for Faithfulness score is as follows:\n",
    "\n",
    "$$\\text{Faithfulness score} = \\frac{|\\text{Number of claims in the generated answer that can be inferred from given context}|}{|\\text{Total number of claims in the generated answer}|}$$\n",
    "\n",
    "Calculation process:\n",
    "1. Identify claims in the generated answer.\n",
    "2. Verify each claim against the given context to check if it can be inferred from the context.\n",
    "3. Use the above formula to calculate the score.\n",
    "\n",
    "Example:\n",
    "- Question: \"When and where was Einstein born?\"\n",
    "- Context: \"Albert Einstein (born March 14, 1879) is a German-born theoretical physicist, widely considered one of the most influential scientists of all time.\"\n",
    "- High faithfulness answer: \"Einstein was born in Germany on March 14, 1879.\"\n",
    "- Low faithfulness answer: \"Einstein was born in Germany on March 20, 1879.\"\n",
    "\n",
    "This metric is useful for evaluating the performance of question-answering systems, particularly for measuring how well the generated answer reflects the given context.\n",
    "\n",
    "### Table of Contents\n",
    "\n",
    "- [Overview](#overview)\n",
    "- [Environment Setup](#environment-setup)\n",
    "- [Load saved RAGAS dataset](#load-saved-ragas-dataset)\n",
    "- [Evaluate the answers](#evaluate-the-answers)\n",
    "\n",
    "### References\n",
    "\n",
    "- [RAGAS Documentation](https://docs.ragas.io/en/stable/)\n",
    "- [RAGAS Metrics](https://docs.ragas.io/en/stable/concepts/metrics/)\n",
    "- [RAGAS Metrics - Context Recall](https://docs.ragas.io/en/stable/concepts/metrics/available_metrics/context_recall/)\n",
    "- [RAGAS Metrics - Context Precision](https://docs.ragas.io/en/stable/concepts/metrics/available_metrics/context_precision/)\n",
    "- [RAGAS Metrics - Answer Relevancy (Response Relevancy)](https://docs.ragas.io/en/stable/concepts/metrics/available_metrics/answer_relevance)\n",
    "- [RAGAS Metrics - Faithfulness](https://docs.ragas.io/en/stable/concepts/metrics/available_metrics/faithfulness/)\n",
    "\n",
    "----"
   ]
  },
  {
   "cell_type": "markdown",
   "metadata": {},
   "source": [
    "## Environment Setup\n",
    "\n",
    "Set up the environment. You may refer to [Environment Setup](https://wikidocs.net/257836) for more details.\n",
    "\n",
    "**[Note]**\n",
    "- `langchain-opentutorial` is a package that provides a set of easy-to-use environment setup, useful functions and utilities for tutorials. \n",
    "- You can checkout the [`langchain-opentutorial`](https://github.com/LangChain-OpenTutorial/langchain-opentutorial-pypi) for more details."
   ]
  },
  {
   "cell_type": "code",
   "execution_count": 1,
   "metadata": {},
   "outputs": [],
   "source": [
    "%%capture --no-stderr\n",
    "%pip install langchain-opentutorial"
   ]
  },
  {
   "cell_type": "code",
   "execution_count": 2,
   "metadata": {},
   "outputs": [],
   "source": [
    "# Install required packages\n",
    "from langchain_opentutorial import package\n",
    "\n",
    "package.install(\n",
    "    [\n",
    "        \"langsmith\",\n",
    "        \"langchain_core\",\n",
    "        \"langchain_community\",\n",
    "        \"langchain_text_splitters\",\n",
    "        \"langchain_openai\",\n",
    "        \"ragas\",\n",
    "        \"pymupdf\",\n",
    "        \"faiss-cpu\",\n",
    "    ],\n",
    "    verbose=False,\n",
    "    upgrade=False,\n",
    ")"
   ]
  },
  {
   "cell_type": "code",
   "execution_count": 3,
   "metadata": {},
   "outputs": [
    {
     "name": "stdout",
     "output_type": "stream",
     "text": [
      "Environment variables have been set successfully.\n"
     ]
    }
   ],
   "source": [
    "# Set environment variables\n",
    "from langchain_opentutorial import set_env\n",
    "\n",
    "set_env(\n",
    "    {\n",
    "        \"OPENAI_API_KEY\": \"\",\n",
    "        \"LANGCHAIN_API_KEY\": \"\",\n",
    "        \"LANGCHAIN_TRACING_V2\": \"true\",\n",
    "        \"LANGCHAIN_ENDPOINT\": \"https://api.smith.langchain.com\",\n",
    "        \"LANGCHAIN_PROJECT\": \"Evaluation-using-RAGAS\",\n",
    "    }\n",
    ")"
   ]
  },
  {
   "cell_type": "markdown",
   "metadata": {},
   "source": [
    "You can alternatively set API keys such as `OPENAI_API_KEY` in a `.env` file and load them.\n",
    "\n",
    "[Note] This is not necessary if you've already set the required API keys in previous steps."
   ]
  },
  {
   "cell_type": "code",
   "execution_count": 4,
   "metadata": {},
   "outputs": [
    {
     "data": {
      "text/plain": [
       "True"
      ]
     },
     "execution_count": 4,
     "metadata": {},
     "output_type": "execute_result"
    }
   ],
   "source": [
    "# Load API keys from .env file\n",
    "from dotenv import load_dotenv\n",
    "\n",
    "load_dotenv(override=True)"
   ]
  },
  {
   "cell_type": "markdown",
   "metadata": {},
   "source": [
    "## Load saved RAGAS dataset\n",
    "\n",
    "`# TODO (sungchul): update the filename & link`  \n",
    "Load the RAGAS dataset that you saved in the previous step ([16-Evaluations/01-Test-Dataset-Generator-RAGAS.ipynb](https://github.com/LangChain-OpenTutorial/LangChain-OpenTutorial/blob/main/16-Evaluations/01-Test-Dataset-Generator-RAGAS.ipynb))."
   ]
  },
  {
   "cell_type": "code",
   "execution_count": 5,
   "metadata": {},
   "outputs": [
    {
     "data": {
      "text/html": [
       "<div>\n",
       "<style scoped>\n",
       "    .dataframe tbody tr th:only-of-type {\n",
       "        vertical-align: middle;\n",
       "    }\n",
       "\n",
       "    .dataframe tbody tr th {\n",
       "        vertical-align: top;\n",
       "    }\n",
       "\n",
       "    .dataframe thead th {\n",
       "        text-align: right;\n",
       "    }\n",
       "</style>\n",
       "<table border=\"1\" class=\"dataframe\">\n",
       "  <thead>\n",
       "    <tr style=\"text-align: right;\">\n",
       "      <th></th>\n",
       "      <th>user_input</th>\n",
       "      <th>reference_contexts</th>\n",
       "      <th>reference</th>\n",
       "      <th>synthesizer_name</th>\n",
       "    </tr>\n",
       "  </thead>\n",
       "  <tbody>\n",
       "    <tr>\n",
       "      <th>0</th>\n",
       "      <td>What is the role of generative AI in the conte...</td>\n",
       "      <td>[\"Agents\\nThis combination of reasoning,\\nlogi...</td>\n",
       "      <td>Generative AI models can be trained to use too...</td>\n",
       "      <td>single_hop_specifc_query_synthesizer</td>\n",
       "    </tr>\n",
       "    <tr>\n",
       "      <th>1</th>\n",
       "      <td>What are the essential components of an agent'...</td>\n",
       "      <td>['Agents\\nWhat is an agent?\\nIn its most funda...</td>\n",
       "      <td>The essential components in an agent's cogniti...</td>\n",
       "      <td>single_hop_specifc_query_synthesizer</td>\n",
       "    </tr>\n",
       "    <tr>\n",
       "      <th>2</th>\n",
       "      <td>What are the key considerations for selecting ...</td>\n",
       "      <td>['Agents\\nFigure 1. General agent architecture...</td>\n",
       "      <td>When selecting a model for an agent, it is cru...</td>\n",
       "      <td>single_hop_specifc_query_synthesizer</td>\n",
       "    </tr>\n",
       "    <tr>\n",
       "      <th>3</th>\n",
       "      <td>How does retrieval augmented generation enhanc...</td>\n",
       "      <td>['Agents\\nThe tools\\nFoundational models, desp...</td>\n",
       "      <td>Retrieval augmented generation (RAG) significa...</td>\n",
       "      <td>single_hop_specifc_query_synthesizer</td>\n",
       "    </tr>\n",
       "    <tr>\n",
       "      <th>4</th>\n",
       "      <td>In the context of AI agents, how does the CoT ...</td>\n",
       "      <td>['Agents\\nAgents vs. models\\nTo gain a clearer...</td>\n",
       "      <td>The CoT framework enhances reasoning capabilit...</td>\n",
       "      <td>single_hop_specifc_query_synthesizer</td>\n",
       "    </tr>\n",
       "  </tbody>\n",
       "</table>\n",
       "</div>"
      ],
      "text/plain": [
       "                                          user_input  \\\n",
       "0  What is the role of generative AI in the conte...   \n",
       "1  What are the essential components of an agent'...   \n",
       "2  What are the key considerations for selecting ...   \n",
       "3  How does retrieval augmented generation enhanc...   \n",
       "4  In the context of AI agents, how does the CoT ...   \n",
       "\n",
       "                                  reference_contexts  \\\n",
       "0  [\"Agents\\nThis combination of reasoning,\\nlogi...   \n",
       "1  ['Agents\\nWhat is an agent?\\nIn its most funda...   \n",
       "2  ['Agents\\nFigure 1. General agent architecture...   \n",
       "3  ['Agents\\nThe tools\\nFoundational models, desp...   \n",
       "4  ['Agents\\nAgents vs. models\\nTo gain a clearer...   \n",
       "\n",
       "                                           reference  \\\n",
       "0  Generative AI models can be trained to use too...   \n",
       "1  The essential components in an agent's cogniti...   \n",
       "2  When selecting a model for an agent, it is cru...   \n",
       "3  Retrieval augmented generation (RAG) significa...   \n",
       "4  The CoT framework enhances reasoning capabilit...   \n",
       "\n",
       "                       synthesizer_name  \n",
       "0  single_hop_specifc_query_synthesizer  \n",
       "1  single_hop_specifc_query_synthesizer  \n",
       "2  single_hop_specifc_query_synthesizer  \n",
       "3  single_hop_specifc_query_synthesizer  \n",
       "4  single_hop_specifc_query_synthesizer  "
      ]
     },
     "execution_count": 5,
     "metadata": {},
     "output_type": "execute_result"
    }
   ],
   "source": [
    "import pandas as pd\n",
    "\n",
    "df = pd.read_csv(\"data/ragas_synthetic_dataset.csv\")\n",
    "df.head()"
   ]
  },
  {
   "cell_type": "code",
   "execution_count": 18,
   "metadata": {},
   "outputs": [
    {
     "data": {
      "text/plain": [
       "Dataset({\n",
       "    features: ['user_input', 'reference_contexts', 'reference', 'synthesizer_name'],\n",
       "    num_rows: 10\n",
       "})"
      ]
     },
     "execution_count": 18,
     "metadata": {},
     "output_type": "execute_result"
    }
   ],
   "source": [
    "from datasets import Dataset\n",
    "\n",
    "test_dataset = Dataset.from_pandas(df)\n",
    "test_dataset"
   ]
  },
  {
   "cell_type": "code",
   "execution_count": 7,
   "metadata": {},
   "outputs": [
    {
     "name": "stderr",
     "output_type": "stream",
     "text": [
      "Map: 100%|██████████| 10/10 [00:00<00:00, 721.48 examples/s]"
     ]
    },
    {
     "name": "stdout",
     "output_type": "stream",
     "text": [
      "Dataset({\n",
      "    features: ['user_input', 'reference_contexts', 'reference', 'synthesizer_name'],\n",
      "    num_rows: 10\n",
      "})\n"
     ]
    },
    {
     "name": "stderr",
     "output_type": "stream",
     "text": [
      "\n"
     ]
    }
   ],
   "source": [
    "import ast\n",
    "\n",
    "# Convert contexts column from string to list\n",
    "def convert_to_list(example):\n",
    "    contexts = ast.literal_eval(example[\"reference_contexts\"])\n",
    "    return {\"reference_contexts\": contexts}\n",
    "\n",
    "test_dataset = test_dataset.map(convert_to_list)\n",
    "print(test_dataset)"
   ]
  },
  {
   "cell_type": "code",
   "execution_count": 8,
   "metadata": {},
   "outputs": [
    {
     "data": {
      "text/plain": [
       "['Agents\\nWhat is an agent?\\nIn its most fundamental form, a Generative AI agent can be defined as an application that\\nattempts to achieve a goal by observing the world and acting upon it using the tools that it\\nhas at its disposal. Agents are autonomous and can act independently of human intervention,\\nespecially when provided with proper goals or objectives they are meant to achieve. Agents\\ncan also be proactive in their approach to reaching their goals. Even in the absence of\\nexplicit instruction sets from a human, an agent can reason about what it should do next to\\nachieve its ultimate goal. While the notion of agents in AI is quite general and powerful, this\\nwhitepaper focuses on the specific types of agents that Generative AI models are capable of\\nbuilding at the time of publication.\\nIn order to understand the inner workings of an agent, let’s first introduce the foundational\\ncomponents that drive the agent’s behavior, actions, and decision making. The combination\\nof these components can be described as a cognitive architecture, and there are many\\nsuch architectures that can be achieved by the mixing and matching of these components.\\nFocusing on the core functionalities, there are three essential components in an agent’s\\ncognitive architecture as shown in Figure 1.\\nSeptember 2024 5\\n']"
      ]
     },
     "execution_count": 8,
     "metadata": {},
     "output_type": "execute_result"
    }
   ],
   "source": [
    "test_dataset[1][\"reference_contexts\"]"
   ]
  },
  {
   "cell_type": "code",
   "execution_count": 10,
   "metadata": {},
   "outputs": [],
   "source": [
    "from langchain_text_splitters import RecursiveCharacterTextSplitter\n",
    "from langchain_community.document_loaders import PyMuPDFLoader\n",
    "from langchain_community.vectorstores import FAISS\n",
    "from langchain_core.output_parsers import StrOutputParser\n",
    "from langchain_core.runnables import RunnablePassthrough\n",
    "from langchain_core.prompts import PromptTemplate\n",
    "from langchain_openai import ChatOpenAI, OpenAIEmbeddings\n",
    "\n",
    "# Step 1: Load Documents\n",
    "loader = PyMuPDFLoader(\"data/Newwhitepaper_Agents2.pdf\")\n",
    "docs = loader.load()\n",
    "\n",
    "# Step 2: Split Documents\n",
    "text_splitter = RecursiveCharacterTextSplitter(chunk_size=1000, chunk_overlap=50)\n",
    "split_documents = text_splitter.split_documents(docs)\n",
    "\n",
    "# Step 3: Create Embeddings\n",
    "embeddings = OpenAIEmbeddings()\n",
    "\n",
    "# Step 4: Create DB and Save\n",
    "vectorstore = FAISS.from_documents(documents=split_documents, embedding=embeddings)\n",
    "\n",
    "# Step 5: Create Retriever\n",
    "retriever = vectorstore.as_retriever()\n",
    "\n",
    "# Step 6: Create Prompt\n",
    "prompt = PromptTemplate.from_template(\n",
    "    \"\"\"You are an assistant for question-answering tasks. \n",
    "Use the following pieces of retrieved context to answer the question. \n",
    "If you don't know the answer, just say that you don't know. \n",
    "\n",
    "#Context: \n",
    "{context}\n",
    "\n",
    "#Question:\n",
    "{question}\n",
    "\n",
    "#Answer:\"\"\"\n",
    ")\n",
    "\n",
    "# Step 7: Create LLM\n",
    "llm = ChatOpenAI(model_name=\"gpt-4o\", temperature=0)\n",
    "\n",
    "# Step 8: Create Chain\n",
    "chain = (\n",
    "    {\"context\": retriever, \"question\": RunnablePassthrough()}\n",
    "    | prompt\n",
    "    | llm\n",
    "    | StrOutputParser()\n",
    ")"
   ]
  },
  {
   "cell_type": "markdown",
   "metadata": {},
   "source": [
    "Create batch dataset. Batch dataset is useful when you want to process a large number of questions at once.\n",
    "\n",
    "- Reference for `batch`: [Link](https://github.com/LangChain-OpenTutorial/LangChain-OpenTutorial/blob/main/01-Basic/07-LCEL-Interface.ipynb)"
   ]
  },
  {
   "cell_type": "code",
   "execution_count": 11,
   "metadata": {},
   "outputs": [
    {
     "data": {
      "text/plain": [
       "['What is the role of generative AI in the context of agents?',\n",
       " \"What are the essential components of an agent's cognitive architecture as of September 2024?\",\n",
       " 'What are the key considerations for selecting a model for an agent in the context of advancements expected by September 2024?']"
      ]
     },
     "execution_count": 11,
     "metadata": {},
     "output_type": "execute_result"
    }
   ],
   "source": [
    "batch_dataset = [question for question in test_dataset[\"user_input\"]]\n",
    "batch_dataset[:3]"
   ]
  },
  {
   "cell_type": "markdown",
   "metadata": {},
   "source": [
    "Call `batch()` to get answers for the batch dataset."
   ]
  },
  {
   "cell_type": "code",
   "execution_count": 12,
   "metadata": {},
   "outputs": [
    {
     "data": {
      "text/plain": [
       "['The role of generative AI in the context of agents is to extend the capabilities of language models by leveraging tools to access real-time information, suggest real-world actions, and autonomously plan and execute complex tasks. Generative AI models can be trained to use external tools to access specific information or perform actions, such as making API calls to send emails or complete transactions. These agents are autonomous, capable of acting independently of human intervention, and can proactively reason about what actions to take to achieve their goals. The orchestration layer, a cognitive architecture, structures the reasoning, planning, and decision-making processes of these agents.',\n",
       " \"The essential components of an agent's cognitive architecture as of September 2024 include the core functionalities that drive the agent’s behavior, actions, and decision-making. These components can be described as a cognitive architecture, which involves the orchestration layer that structures reasoning, planning, decision-making, and guides the agent's actions.\",\n",
       " \"The key considerations for selecting a model for an agent, in the context of advancements expected by September 2024, include the model's ability to reason and act on various tasks, its capability to select the right tools, and how well those tools have been defined. Additionally, the model should be able to interact with external data and services through tools, which can significantly extend its capabilities beyond what the foundational model alone can achieve. This involves using tools like web API methods (GET, POST, PATCH, DELETE) to access and process real-world information, thereby supporting more specialized systems like retrieval augmented generation (RAG). The iterative approach to building complex agent architectures, focusing on experimentation and refinement, is also crucial to finding solutions for specific business cases and organizational needs.\"]"
      ]
     },
     "execution_count": 12,
     "metadata": {},
     "output_type": "execute_result"
    }
   ],
   "source": [
    "answer = chain.batch(batch_dataset)\n",
    "answer[:3]"
   ]
  },
  {
   "cell_type": "markdown",
   "metadata": {},
   "source": [
    "Store the answers generated by the LLM in the 'answer' column."
   ]
  },
  {
   "cell_type": "code",
   "execution_count": 13,
   "metadata": {},
   "outputs": [],
   "source": [
    "# Overwrite or add 'answer' column\n",
    "if \"answer\" in test_dataset.column_names:\n",
    "    test_dataset = test_dataset.remove_columns([\"answer\"]).add_column(\"answer\", answer)\n",
    "else:\n",
    "    test_dataset = test_dataset.add_column(\"answer\", answer)"
   ]
  },
  {
   "cell_type": "markdown",
   "metadata": {},
   "source": [
    "## Evaluate the answers\n",
    "\n",
    "Using `ragas.evaluate()`, we can evaluate the answers."
   ]
  },
  {
   "cell_type": "code",
   "execution_count": 14,
   "metadata": {},
   "outputs": [
    {
     "name": "stderr",
     "output_type": "stream",
     "text": [
      "Evaluating: 100%|██████████| 40/40 [00:46<00:00,  1.16s/it]\n"
     ]
    },
    {
     "data": {
      "text/plain": [
       "{'context_precision': 1.0000, 'faithfulness': 0.5894, 'answer_relevancy': 0.9694, 'context_recall': 0.7167}"
      ]
     },
     "execution_count": 14,
     "metadata": {},
     "output_type": "execute_result"
    }
   ],
   "source": [
    "from ragas import evaluate\n",
    "from ragas.metrics import (\n",
    "    answer_relevancy,\n",
    "    faithfulness,\n",
    "    context_recall,\n",
    "    context_precision,\n",
    ")\n",
    "\n",
    "# Format dataset structure\n",
    "formatted_dataset = []\n",
    "for item in test_dataset:\n",
    "    formatted_item = {\n",
    "        \"question\": item[\"user_input\"],\n",
    "        \"answer\": item[\"answer\"],\n",
    "        \"reference\": item[\"answer\"],\n",
    "        \"contexts\": item[\"reference_contexts\"],\n",
    "        \"retrieved_contexts\": item[\"reference_contexts\"],\n",
    "    }\n",
    "    formatted_dataset.append(formatted_item)\n",
    "\n",
    "# Convert to RAGAS dataset\n",
    "ragas_dataset = Dataset.from_list(formatted_dataset)\n",
    "\n",
    "result = evaluate(\n",
    "    dataset=ragas_dataset,\n",
    "    metrics=[\n",
    "        context_precision,\n",
    "        faithfulness,\n",
    "        answer_relevancy,\n",
    "        context_recall,\n",
    "    ],\n",
    ")\n",
    "\n",
    "result"
   ]
  },
  {
   "cell_type": "code",
   "execution_count": 15,
   "metadata": {},
   "outputs": [
    {
     "data": {
      "text/html": [
       "<div>\n",
       "<style scoped>\n",
       "    .dataframe tbody tr th:only-of-type {\n",
       "        vertical-align: middle;\n",
       "    }\n",
       "\n",
       "    .dataframe tbody tr th {\n",
       "        vertical-align: top;\n",
       "    }\n",
       "\n",
       "    .dataframe thead th {\n",
       "        text-align: right;\n",
       "    }\n",
       "</style>\n",
       "<table border=\"1\" class=\"dataframe\">\n",
       "  <thead>\n",
       "    <tr style=\"text-align: right;\">\n",
       "      <th></th>\n",
       "      <th>user_input</th>\n",
       "      <th>retrieved_contexts</th>\n",
       "      <th>response</th>\n",
       "      <th>reference</th>\n",
       "      <th>context_precision</th>\n",
       "      <th>faithfulness</th>\n",
       "      <th>answer_relevancy</th>\n",
       "      <th>context_recall</th>\n",
       "    </tr>\n",
       "  </thead>\n",
       "  <tbody>\n",
       "    <tr>\n",
       "      <th>0</th>\n",
       "      <td>What is the role of generative AI in the conte...</td>\n",
       "      <td>[Agents\\nThis combination of reasoning,\\nlogic...</td>\n",
       "      <td>The role of generative AI in the context of ag...</td>\n",
       "      <td>The role of generative AI in the context of ag...</td>\n",
       "      <td>1.0</td>\n",
       "      <td>0.470588</td>\n",
       "      <td>1.000000</td>\n",
       "      <td>0.75</td>\n",
       "    </tr>\n",
       "    <tr>\n",
       "      <th>1</th>\n",
       "      <td>What are the essential components of an agent'...</td>\n",
       "      <td>[Agents\\nWhat is an agent?\\nIn its most fundam...</td>\n",
       "      <td>The essential components of an agent's cogniti...</td>\n",
       "      <td>The essential components of an agent's cogniti...</td>\n",
       "      <td>1.0</td>\n",
       "      <td>0.400000</td>\n",
       "      <td>1.000000</td>\n",
       "      <td>0.50</td>\n",
       "    </tr>\n",
       "    <tr>\n",
       "      <th>2</th>\n",
       "      <td>What are the key considerations for selecting ...</td>\n",
       "      <td>[Agents\\nFigure 1. General agent architecture ...</td>\n",
       "      <td>The key considerations for selecting a model f...</td>\n",
       "      <td>The key considerations for selecting a model f...</td>\n",
       "      <td>1.0</td>\n",
       "      <td>0.333333</td>\n",
       "      <td>1.000000</td>\n",
       "      <td>0.50</td>\n",
       "    </tr>\n",
       "    <tr>\n",
       "      <th>3</th>\n",
       "      <td>How does retrieval augmented generation enhanc...</td>\n",
       "      <td>[Agents\\nThe tools\\nFoundational models, despi...</td>\n",
       "      <td>Retrieval Augmented Generation (RAG) enhances ...</td>\n",
       "      <td>Retrieval Augmented Generation (RAG) enhances ...</td>\n",
       "      <td>1.0</td>\n",
       "      <td>0.500000</td>\n",
       "      <td>0.919411</td>\n",
       "      <td>1.00</td>\n",
       "    </tr>\n",
       "    <tr>\n",
       "      <th>4</th>\n",
       "      <td>In the context of AI agents, how does the CoT ...</td>\n",
       "      <td>[Agents\\nAgents vs. models\\nTo gain a clearer ...</td>\n",
       "      <td>The Chain-of-Thought (CoT) framework enhances ...</td>\n",
       "      <td>The Chain-of-Thought (CoT) framework enhances ...</td>\n",
       "      <td>1.0</td>\n",
       "      <td>0.076923</td>\n",
       "      <td>0.944423</td>\n",
       "      <td>0.00</td>\n",
       "    </tr>\n",
       "  </tbody>\n",
       "</table>\n",
       "</div>"
      ],
      "text/plain": [
       "                                          user_input  \\\n",
       "0  What is the role of generative AI in the conte...   \n",
       "1  What are the essential components of an agent'...   \n",
       "2  What are the key considerations for selecting ...   \n",
       "3  How does retrieval augmented generation enhanc...   \n",
       "4  In the context of AI agents, how does the CoT ...   \n",
       "\n",
       "                                  retrieved_contexts  \\\n",
       "0  [Agents\\nThis combination of reasoning,\\nlogic...   \n",
       "1  [Agents\\nWhat is an agent?\\nIn its most fundam...   \n",
       "2  [Agents\\nFigure 1. General agent architecture ...   \n",
       "3  [Agents\\nThe tools\\nFoundational models, despi...   \n",
       "4  [Agents\\nAgents vs. models\\nTo gain a clearer ...   \n",
       "\n",
       "                                            response  \\\n",
       "0  The role of generative AI in the context of ag...   \n",
       "1  The essential components of an agent's cogniti...   \n",
       "2  The key considerations for selecting a model f...   \n",
       "3  Retrieval Augmented Generation (RAG) enhances ...   \n",
       "4  The Chain-of-Thought (CoT) framework enhances ...   \n",
       "\n",
       "                                           reference  context_precision  \\\n",
       "0  The role of generative AI in the context of ag...                1.0   \n",
       "1  The essential components of an agent's cogniti...                1.0   \n",
       "2  The key considerations for selecting a model f...                1.0   \n",
       "3  Retrieval Augmented Generation (RAG) enhances ...                1.0   \n",
       "4  The Chain-of-Thought (CoT) framework enhances ...                1.0   \n",
       "\n",
       "   faithfulness  answer_relevancy  context_recall  \n",
       "0      0.470588          1.000000            0.75  \n",
       "1      0.400000          1.000000            0.50  \n",
       "2      0.333333          1.000000            0.50  \n",
       "3      0.500000          0.919411            1.00  \n",
       "4      0.076923          0.944423            0.00  "
      ]
     },
     "execution_count": 15,
     "metadata": {},
     "output_type": "execute_result"
    }
   ],
   "source": [
    "result_df = result.to_pandas()\n",
    "result_df.head()"
   ]
  },
  {
   "cell_type": "code",
   "execution_count": 16,
   "metadata": {},
   "outputs": [],
   "source": [
    "result_df.to_csv(\"data/ragas_evaluation_result.csv\", index=False)"
   ]
  },
  {
   "cell_type": "code",
   "execution_count": 17,
   "metadata": {},
   "outputs": [
    {
     "data": {
      "text/html": [
       "<div>\n",
       "<style scoped>\n",
       "    .dataframe tbody tr th:only-of-type {\n",
       "        vertical-align: middle;\n",
       "    }\n",
       "\n",
       "    .dataframe tbody tr th {\n",
       "        vertical-align: top;\n",
       "    }\n",
       "\n",
       "    .dataframe thead th {\n",
       "        text-align: right;\n",
       "    }\n",
       "</style>\n",
       "<table border=\"1\" class=\"dataframe\">\n",
       "  <thead>\n",
       "    <tr style=\"text-align: right;\">\n",
       "      <th></th>\n",
       "      <th>context_precision</th>\n",
       "      <th>faithfulness</th>\n",
       "      <th>answer_relevancy</th>\n",
       "      <th>context_recall</th>\n",
       "    </tr>\n",
       "  </thead>\n",
       "  <tbody>\n",
       "    <tr>\n",
       "      <th>0</th>\n",
       "      <td>1.0</td>\n",
       "      <td>0.470588</td>\n",
       "      <td>1.000000</td>\n",
       "      <td>0.750000</td>\n",
       "    </tr>\n",
       "    <tr>\n",
       "      <th>1</th>\n",
       "      <td>1.0</td>\n",
       "      <td>0.400000</td>\n",
       "      <td>1.000000</td>\n",
       "      <td>0.500000</td>\n",
       "    </tr>\n",
       "    <tr>\n",
       "      <th>2</th>\n",
       "      <td>1.0</td>\n",
       "      <td>0.333333</td>\n",
       "      <td>1.000000</td>\n",
       "      <td>0.500000</td>\n",
       "    </tr>\n",
       "    <tr>\n",
       "      <th>3</th>\n",
       "      <td>1.0</td>\n",
       "      <td>0.500000</td>\n",
       "      <td>0.919411</td>\n",
       "      <td>1.000000</td>\n",
       "    </tr>\n",
       "    <tr>\n",
       "      <th>4</th>\n",
       "      <td>1.0</td>\n",
       "      <td>0.076923</td>\n",
       "      <td>0.944423</td>\n",
       "      <td>0.000000</td>\n",
       "    </tr>\n",
       "    <tr>\n",
       "      <th>5</th>\n",
       "      <td>1.0</td>\n",
       "      <td>0.923077</td>\n",
       "      <td>0.938009</td>\n",
       "      <td>1.000000</td>\n",
       "    </tr>\n",
       "    <tr>\n",
       "      <th>6</th>\n",
       "      <td>1.0</td>\n",
       "      <td>1.000000</td>\n",
       "      <td>0.984205</td>\n",
       "      <td>0.750000</td>\n",
       "    </tr>\n",
       "    <tr>\n",
       "      <th>7</th>\n",
       "      <td>1.0</td>\n",
       "      <td>0.920000</td>\n",
       "      <td>0.971321</td>\n",
       "      <td>1.000000</td>\n",
       "    </tr>\n",
       "    <tr>\n",
       "      <th>8</th>\n",
       "      <td>1.0</td>\n",
       "      <td>0.352941</td>\n",
       "      <td>0.963824</td>\n",
       "      <td>0.666667</td>\n",
       "    </tr>\n",
       "    <tr>\n",
       "      <th>9</th>\n",
       "      <td>1.0</td>\n",
       "      <td>0.916667</td>\n",
       "      <td>0.972590</td>\n",
       "      <td>1.000000</td>\n",
       "    </tr>\n",
       "  </tbody>\n",
       "</table>\n",
       "</div>"
      ],
      "text/plain": [
       "   context_precision  faithfulness  answer_relevancy  context_recall\n",
       "0                1.0      0.470588          1.000000        0.750000\n",
       "1                1.0      0.400000          1.000000        0.500000\n",
       "2                1.0      0.333333          1.000000        0.500000\n",
       "3                1.0      0.500000          0.919411        1.000000\n",
       "4                1.0      0.076923          0.944423        0.000000\n",
       "5                1.0      0.923077          0.938009        1.000000\n",
       "6                1.0      1.000000          0.984205        0.750000\n",
       "7                1.0      0.920000          0.971321        1.000000\n",
       "8                1.0      0.352941          0.963824        0.666667\n",
       "9                1.0      0.916667          0.972590        1.000000"
      ]
     },
     "execution_count": 17,
     "metadata": {},
     "output_type": "execute_result"
    }
   ],
   "source": [
    "result_df.loc[:, \"context_precision\":\"context_recall\"]"
   ]
  }
 ],
 "metadata": {
  "kernelspec": {
   "display_name": ".venv",
   "language": "python",
   "name": "python3"
  },
  "language_info": {
   "codemirror_mode": {
    "name": "ipython",
    "version": 3
   },
   "file_extension": ".py",
   "mimetype": "text/x-python",
   "name": "python",
   "nbconvert_exporter": "python",
   "pygments_lexer": "ipython3",
   "version": "3.11.10"
  }
 },
 "nbformat": 4,
 "nbformat_minor": 2
}
